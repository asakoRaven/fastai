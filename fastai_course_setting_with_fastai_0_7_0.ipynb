{
  "nbformat": 4,
  "nbformat_minor": 0,
  "metadata": {
    "colab": {
      "name": "fastai course setting with fastai 0.7.0.ipynb",
      "version": "0.3.2",
      "provenance": [],
      "include_colab_link": true
    },
    "kernelspec": {
      "name": "python3",
      "display_name": "Python 3"
    },
    "accelerator": "GPU"
  },
  "cells": [
    {
      "cell_type": "markdown",
      "metadata": {
        "id": "view-in-github",
        "colab_type": "text"
      },
      "source": [
        "<a href=\"https://colab.research.google.com/github/asakoRaven/fastai/blob/master/fastai_course_setting_with_fastai_0_7_0.ipynb\" target=\"_parent\"><img src=\"https://colab.research.google.com/assets/colab-badge.svg\" alt=\"Open In Colab\"/></a>"
      ]
    },
    {
      "metadata": {
        "id": "M8ADfmGo0Kvu",
        "colab_type": "text"
      },
      "cell_type": "markdown",
      "source": [
        "# Preparation\n"
      ]
    },
    {
      "metadata": {
        "id": "PLKrnRu2_Y8E",
        "colab_type": "text"
      },
      "cell_type": "markdown",
      "source": [
        " ## install pytourch & fastai  \n",
        " \n",
        " [Snippets: Importing libraries](https://colab.research.google.com/notebooks/snippets/importing_libraries.ipynb#scrollTo=n3joqGF1RTry)  \n"
      ]
    },
    {
      "metadata": {
        "id": "cbFjmLeC7e3x",
        "colab_type": "code",
        "colab": {}
      },
      "cell_type": "code",
      "source": [
        "# http://pytorch.org/\n",
        "from os.path import exists\n",
        "from wheel.pep425tags import get_abbr_impl, get_impl_ver, get_abi_tag\n",
        "platform = '{}{}-{}'.format(get_abbr_impl(), get_impl_ver(), get_abi_tag())\n",
        "cuda_output = !ldconfig -p|grep cudart.so|sed -e 's/.*\\.\\([0-9]*\\)\\.\\([0-9]*\\)$/cu\\1\\2/'\n",
        "\n",
        "# accelerator = cuda_output[0] if exists('/dev/nvidia0') else 'cpu'\n",
        "# !pip install -q http://download.pytorch.org/whl/{accelerator}/torch-0.4.1-{platform}-linux_x86_64.whl torchvision\n",
        "\n",
        "accelerator = 'cu80' if exists('/opt/bin/nvidia-smi') else 'cpu'\n",
        "# !pip install -q http://download.pytorch.org/whl/{accelerator}/torch-0.4.0-{platform}-linux_x86_64.whl torchvision\n",
        "!pip install -q http://download.pytorch.org/whl/{accelerator}/torch-0.3.0.post4-{platform}-linux_x86_64.whl "
      ],
      "execution_count": 0,
      "outputs": []
    },
    {
      "metadata": {
        "id": "wK8Hb1bX8mao",
        "colab_type": "code",
        "colab": {}
      },
      "cell_type": "code",
      "source": [
        "import torch\n",
        "print(torch.__version__)\n",
        "print(torch.cuda.is_available())\n",
        "print(torch.backends.cudnn.enabled)"
      ],
      "execution_count": 0,
      "outputs": []
    },
    {
      "metadata": {
        "id": "c2fm2RhIF1p8",
        "colab_type": "code",
        "colab": {}
      },
      "cell_type": "code",
      "source": [
        "!pip install --upgrade pandas\n",
        "# !pip install --upgrade matplotlib\n",
        "!pip install --upgrade scipy\n",
        "!pip install --upgrade prompt-toolkit==2.0.7\n"
      ],
      "execution_count": 0,
      "outputs": []
    },
    {
      "metadata": {
        "id": "4sK7e5nh7Dl7",
        "colab_type": "text"
      },
      "cell_type": "markdown",
      "source": [
        "image readのあたりでエラーとなるので、pillowをインストールする"
      ]
    },
    {
      "metadata": {
        "id": "PWfHaE2c7EL2",
        "colab_type": "code",
        "colab": {}
      },
      "cell_type": "code",
      "source": [
        "!pip install pillow==4.2.1"
      ],
      "execution_count": 0,
      "outputs": []
    },
    {
      "metadata": {
        "id": "CZXnZUo4wl-e",
        "colab_type": "text"
      },
      "cell_type": "markdown",
      "source": [
        "The course.fastai student should use fastat 0.7.x.  \n",
        "[fastai](https://github.com/fastai/fastai) より、course.fast.aiを使用する人はfastai 0.7.xをインストールするようにあるので、バージョンを指定してインストールする。"
      ]
    },
    {
      "metadata": {
        "id": "4I9iXY-m60Qh",
        "colab_type": "code",
        "colab": {}
      },
      "cell_type": "code",
      "source": [
        "!pip install fastai==0.7.0\n",
        "!pip install torchtext==0.2.3"
      ],
      "execution_count": 0,
      "outputs": []
    },
    {
      "metadata": {
        "id": "upIUJq1QxeAD",
        "colab_type": "text"
      },
      "cell_type": "markdown",
      "source": [
        "モジュールロードに問題がないことを確認する"
      ]
    },
    {
      "metadata": {
        "id": "uvl6YM7JxCEY",
        "colab_type": "code",
        "colab": {}
      },
      "cell_type": "code",
      "source": [
        "# Put these at the top of every notebook, to get automatic reloading and inline plotting\n",
        "%reload_ext autoreload\n",
        "%autoreload 2\n",
        "%matplotlib inline"
      ],
      "execution_count": 0,
      "outputs": []
    },
    {
      "metadata": {
        "id": "NMLED9c0xTHg",
        "colab_type": "text"
      },
      "cell_type": "markdown",
      "source": [
        "import fastaiに問題がないことを確認する"
      ]
    },
    {
      "metadata": {
        "id": "QwONW6ZQ0Kv9",
        "colab_type": "code",
        "colab": {}
      },
      "cell_type": "code",
      "source": [
        "# This file contains all the main external libs we'll use\n",
        "from fastai.imports import *"
      ],
      "execution_count": 0,
      "outputs": []
    },
    {
      "metadata": {
        "id": "mwEvFLip0KwE",
        "colab_type": "code",
        "colab": {}
      },
      "cell_type": "code",
      "source": [
        "# the following package includes old directory.\n",
        "# pip fastai not install old directory, we already clone fastai repository to /tmp directory\n",
        "\n",
        "from fastai.transforms import *\n",
        "from fastai.conv_learner import *\n",
        "from fastai.model import *\n",
        "from fastai.dataset import *\n",
        "from fastai.sgdr import *\n",
        "from fastai.plots import *"
      ],
      "execution_count": 0,
      "outputs": []
    },
    {
      "metadata": {
        "id": "q3OmDRnlXSXy",
        "colab_type": "text"
      },
      "cell_type": "markdown",
      "source": [
        "# Prepare dataset"
      ]
    },
    {
      "metadata": {
        "id": "DzWlhawWZDFG",
        "colab_type": "text"
      },
      "cell_type": "markdown",
      "source": [
        "## dogs and cats"
      ]
    },
    {
      "metadata": {
        "id": "X1Bun7JK0KwR",
        "colab_type": "text"
      },
      "cell_type": "markdown",
      "source": [
        "The dataset is available at http://files.fast.ai/data/dogscats.zip. You can download it directly on your server by running the following line in your terminal. `wget http://files.fast.ai/data/dogscats.zip`. You should put the data in a subdirectory of this notebook's directory, called `data/`. Note that this data is already available in Crestle and the Paperspace fast.ai template."
      ]
    },
    {
      "metadata": {
        "id": "pCqr13CSXmAo",
        "colab_type": "code",
        "colab": {}
      },
      "cell_type": "code",
      "source": [
        "%%bash\n",
        "mkdir -p data"
      ],
      "execution_count": 0,
      "outputs": []
    },
    {
      "metadata": {
        "id": "WXpoTBqrPOvP",
        "colab_type": "code",
        "colab": {}
      },
      "cell_type": "code",
      "source": [
        "! cd data; wget http://files.fast.ai/data/dogscats.zip && unzip dogscats.zip"
      ],
      "execution_count": 0,
      "outputs": []
    },
    {
      "metadata": {
        "id": "1KfPrxFnZgFR",
        "colab_type": "code",
        "colab": {}
      },
      "cell_type": "code",
      "source": [
        "!ls /content/data/dogscats"
      ],
      "execution_count": 0,
      "outputs": []
    },
    {
      "metadata": {
        "id": "2VwZ8fdDZpT5",
        "colab_type": "text"
      },
      "cell_type": "markdown",
      "source": [
        "## dog breed"
      ]
    },
    {
      "metadata": {
        "id": "UilW0wsyamf6",
        "colab_type": "text"
      },
      "cell_type": "markdown",
      "source": [
        "### dataset"
      ]
    },
    {
      "metadata": {
        "id": "yXYP5WezZvgL",
        "colab_type": "text"
      },
      "cell_type": "markdown",
      "source": [
        "Kaggle Dog Breed Identification. Get data from https://www.kaggle.com/c/dog-breed-identification"
      ]
    },
    {
      "metadata": {
        "id": "hw1x-KViZzr6",
        "colab_type": "code",
        "colab": {}
      },
      "cell_type": "code",
      "source": [
        "%%bash\n",
        "mkdir -p data/dogbreeds"
      ],
      "execution_count": 0,
      "outputs": []
    },
    {
      "metadata": {
        "id": "xRvwqbOlaUPq",
        "colab_type": "code",
        "colab": {}
      },
      "cell_type": "code",
      "source": [
        "!pip install kaggle"
      ],
      "execution_count": 0,
      "outputs": []
    },
    {
      "metadata": {
        "id": "OvFTOx8ZZ32q",
        "colab_type": "code",
        "colab": {}
      },
      "cell_type": "code",
      "source": [
        "! echo '{\"username\":\"xxx\",\"key\":\"xxx\"}' > /root/.kaggle/kaggle.json\n",
        "! chmod 600 /root/.kaggle/kaggle.json\n",
        "! kaggle competitions list\n",
        "! cd data/dogbreeds; kaggle competitions download -c dog-breed-identification"
      ],
      "execution_count": 0,
      "outputs": []
    },
    {
      "metadata": {
        "id": "WksjnMiPZ8Xw",
        "colab_type": "code",
        "colab": {}
      },
      "cell_type": "code",
      "source": [
        "!ls /content/data/dogbreeds"
      ],
      "execution_count": 0,
      "outputs": []
    },
    {
      "metadata": {
        "id": "6v3ZJkgfaBJV",
        "colab_type": "code",
        "colab": {}
      },
      "cell_type": "code",
      "source": [
        "! cd /content/data/dogbreeds && unzip labels.csv.zip\n",
        "! cd /content/data/dogbreeds && unzip sample_submission.csv.zip\n",
        "! cd /content/data/dogbreeds && unzip test.zip\n",
        "! cd /content/data/dogbreeds && unzip train.zip"
      ],
      "execution_count": 0,
      "outputs": []
    },
    {
      "metadata": {
        "id": "p6pjqxCGaHlh",
        "colab_type": "code",
        "colab": {}
      },
      "cell_type": "code",
      "source": [
        "!ls /content/data/dogbreeds"
      ],
      "execution_count": 0,
      "outputs": []
    },
    {
      "metadata": {
        "id": "Hn_hS9omapK3",
        "colab_type": "text"
      },
      "cell_type": "markdown",
      "source": [
        "## precomputed files"
      ]
    },
    {
      "metadata": {
        "id": "ronTMJrpa1q7",
        "colab_type": "code",
        "colab": {}
      },
      "cell_type": "code",
      "source": [
        "! wget http://files.fast.ai/models/weights.tgz"
      ],
      "execution_count": 0,
      "outputs": []
    },
    {
      "metadata": {
        "id": "0Op5fWR0b0q0",
        "colab_type": "code",
        "colab": {}
      },
      "cell_type": "code",
      "source": [
        "! tar tvfz weights.tgz"
      ],
      "execution_count": 0,
      "outputs": []
    },
    {
      "metadata": {
        "id": "Ld_Sfzzibm7I",
        "colab_type": "code",
        "colab": {}
      },
      "cell_type": "code",
      "source": [
        "! tar xvfz weights.tgz -C /usr/local/lib/python3.6/dist-packages/fastai"
      ],
      "execution_count": 0,
      "outputs": []
    }
  ]
}